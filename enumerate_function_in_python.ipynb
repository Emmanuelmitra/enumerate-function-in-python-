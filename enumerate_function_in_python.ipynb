{
  "nbformat": 4,
  "nbformat_minor": 0,
  "metadata": {
    "colab": {
      "name": "enumerate function in python",
      "provenance": [],
      "authorship_tag": "ABX9TyMbgrlutFAaABRc5rZ130zU",
      "include_colab_link": true
    },
    "kernelspec": {
      "name": "python3",
      "display_name": "Python 3"
    },
    "language_info": {
      "name": "python"
    }
  },
  "cells": [
    {
      "cell_type": "markdown",
      "metadata": {
        "id": "view-in-github",
        "colab_type": "text"
      },
      "source": [
        "<a href=\"https://colab.research.google.com/github/Emmanuelmitra/enumerate-function-in-python-/blob/main/enumerate_function_in_python.ipynb\" target=\"_parent\"><img src=\"https://colab.research.google.com/assets/colab-badge.svg\" alt=\"Open In Colab\"/></a>"
      ]
    },
    {
      "cell_type": "markdown",
      "source": [
        "# enumerate function in python "
      ],
      "metadata": {
        "id": "DFXQZJF8h2Ex"
      }
    },
    {
      "cell_type": "markdown",
      "source": [
        "Using the enumerate() Function\n",
        "Instead of using the range() function, we can instead use the built-in enumerate() function in python. enumerate() allows us to iterate through a sequence but it keeps track of both the index and the element.\n",
        "enumerate(iterable, start=0)\n",
        "The enumerate() function takes in an iterable as an argument, such as a list, string, tuple, or dictionary. In addition, it can also take in an optional argument, start, which specifies the number we want the count to start at (the default is 0)."
      ],
      "metadata": {
        "id": "V9Vz-xJyh-b8"
      }
    },
    {
      "cell_type": "code",
      "source": [
        "l=['emmanuel','simon','hero','superman','spyderman','zerp']"
      ],
      "metadata": {
        "id": "S6DXech_fogu"
      },
      "execution_count": 7,
      "outputs": []
    },
    {
      "cell_type": "code",
      "source": [
        "#1. how to enumerate works \n",
        "for i in enumerate(l):\n",
        "  print(i)"
      ],
      "metadata": {
        "colab": {
          "base_uri": "https://localhost:8080/"
        },
        "id": "DkUGyQ83fxl8",
        "outputId": "ceeb7010-4f6f-463f-ad6d-6836c72dd48c"
      },
      "execution_count": 12,
      "outputs": [
        {
          "output_type": "stream",
          "name": "stdout",
          "text": [
            "(0, 'emmanuel')\n",
            "(1, 'simon')\n",
            "(2, 'hero')\n",
            "(3, 'superman')\n",
            "(4, 'spyderman')\n",
            "(5, 'zerp')\n"
          ]
        }
      ]
    },
    {
      "cell_type": "code",
      "source": [
        "#2. how to get index and values of keys from list \n",
        "for i,j in enumerate(l):\n",
        "  print(i,j)"
      ],
      "metadata": {
        "colab": {
          "base_uri": "https://localhost:8080/"
        },
        "id": "Zj7VP5vDf09f",
        "outputId": "918425c9-46f5-48d1-9230-13c3da1dcb50"
      },
      "execution_count": 16,
      "outputs": [
        {
          "output_type": "stream",
          "name": "stdout",
          "text": [
            "0 emmanuel\n",
            "1 simon\n",
            "2 hero\n",
            "3 superman\n",
            "4 spyderman\n",
            "5 zerp\n"
          ]
        }
      ]
    },
    {
      "cell_type": "code",
      "source": [
        "#3. how to get indexes of elements in list \n",
        "for i,j in enumerate(l):\n",
        "  print(i)"
      ],
      "metadata": {
        "colab": {
          "base_uri": "https://localhost:8080/"
        },
        "id": "DWC6bPTXiVib",
        "outputId": "b5bcff69-8d94-40bb-894e-82ef24b29934"
      },
      "execution_count": 17,
      "outputs": [
        {
          "output_type": "stream",
          "name": "stdout",
          "text": [
            "0\n",
            "1\n",
            "2\n",
            "3\n",
            "4\n",
            "5\n"
          ]
        }
      ]
    },
    {
      "cell_type": "code",
      "source": [
        "# 3 how to get only values from list \n",
        "for i, j in enumerate(l):\n",
        "  print(j)"
      ],
      "metadata": {
        "colab": {
          "base_uri": "https://localhost:8080/"
        },
        "id": "vmXBj6BtilYc",
        "outputId": "b137ff62-b0a5-4729-aa6d-906e651f9a85"
      },
      "execution_count": 18,
      "outputs": [
        {
          "output_type": "stream",
          "name": "stdout",
          "text": [
            "emmanuel\n",
            "simon\n",
            "hero\n",
            "superman\n",
            "spyderman\n",
            "zerp\n"
          ]
        }
      ]
    },
    {
      "cell_type": "code",
      "source": [
        "#4 how to get values above 3 index\n",
        "for i,j in enumerate(l):\n",
        "  if i>3:\n",
        "    print(i,j)"
      ],
      "metadata": {
        "colab": {
          "base_uri": "https://localhost:8080/"
        },
        "id": "KdKB1a1Mirbg",
        "outputId": "3bc5bc74-e5ce-48ed-d587-626b084501a1"
      },
      "execution_count": 28,
      "outputs": [
        {
          "output_type": "stream",
          "name": "stdout",
          "text": [
            "4 spyderman\n",
            "5 zerp\n"
          ]
        }
      ]
    },
    {
      "cell_type": "code",
      "source": [
        "# 5\n",
        "for i,j in enumerate(l):\n",
        "  if i>2:\n",
        "    print(i,j)"
      ],
      "metadata": {
        "colab": {
          "base_uri": "https://localhost:8080/"
        },
        "id": "gEePEJZti__K",
        "outputId": "6b8def99-4fab-4e8d-a73a-1acd20b357ce"
      },
      "execution_count": 30,
      "outputs": [
        {
          "output_type": "stream",
          "name": "stdout",
          "text": [
            "3 superman\n",
            "4 spyderman\n",
            "5 zerp\n"
          ]
        }
      ]
    },
    {
      "cell_type": "code",
      "source": [
        "#6 how to get index and values of perticular item from list \n",
        "for i,j in enumerate(l):\n",
        "  if j=='emmanuel':\n",
        "    print(i,j)"
      ],
      "metadata": {
        "colab": {
          "base_uri": "https://localhost:8080/"
        },
        "id": "SbU0kJ-BjteF",
        "outputId": "8d1f3b33-c404-4083-f7f8-c36eb48c1be4"
      },
      "execution_count": 33,
      "outputs": [
        {
          "output_type": "stream",
          "name": "stdout",
          "text": [
            "0 emmanuel\n"
          ]
        }
      ]
    },
    {
      "cell_type": "code",
      "source": [
        "l"
      ],
      "metadata": {
        "colab": {
          "base_uri": "https://localhost:8080/"
        },
        "id": "HwuKqzVFj5nx",
        "outputId": "a5f29db1-0ca2-44ae-cac1-c98476ad4f26"
      },
      "execution_count": 34,
      "outputs": [
        {
          "output_type": "execute_result",
          "data": {
            "text/plain": [
              "['emmanuel', 'simon', 'hero', 'superman', 'spyderman', 'zerp']"
            ]
          },
          "metadata": {},
          "execution_count": 34
        }
      ]
    },
    {
      "cell_type": "code",
      "source": [
        ""
      ],
      "metadata": {
        "id": "9l9br0K_kDE7"
      },
      "execution_count": 38,
      "outputs": []
    },
    {
      "cell_type": "markdown",
      "source": [
        "## enumerate with tuples"
      ],
      "metadata": {
        "id": "3R1wdB_1kxVD"
      }
    },
    {
      "cell_type": "code",
      "source": [
        "t=('superman','spyderman','hero','zero','thanos','thar')"
      ],
      "metadata": {
        "id": "JxyDBlPmkQGS"
      },
      "execution_count": 39,
      "outputs": []
    },
    {
      "cell_type": "code",
      "source": [
        "#1\n",
        "for i in enumerate(t):\n",
        "  print(i)"
      ],
      "metadata": {
        "colab": {
          "base_uri": "https://localhost:8080/"
        },
        "id": "UIPvqnJ_krqE",
        "outputId": "1653a950-a40c-4c3b-94e5-d77ee76aa270"
      },
      "execution_count": 40,
      "outputs": [
        {
          "output_type": "stream",
          "name": "stdout",
          "text": [
            "(0, 'superman')\n",
            "(1, 'spyderman')\n",
            "(2, 'hero')\n",
            "(3, 'zero')\n",
            "(4, 'thanos')\n",
            "(5, 'thar')\n"
          ]
        }
      ]
    },
    {
      "cell_type": "code",
      "source": [
        "#2\n",
        "for i,j in enumerate(t):\n",
        "  print(i)"
      ],
      "metadata": {
        "colab": {
          "base_uri": "https://localhost:8080/"
        },
        "id": "T4gJUbSRkvko",
        "outputId": "10aaa780-2ef0-4531-da61-86fda02825a3"
      },
      "execution_count": 42,
      "outputs": [
        {
          "output_type": "stream",
          "name": "stdout",
          "text": [
            "0\n",
            "1\n",
            "2\n",
            "3\n",
            "4\n",
            "5\n"
          ]
        }
      ]
    },
    {
      "cell_type": "code",
      "source": [
        "# 3\n",
        "for i,j in enumerate(t):\n",
        "  print(j)"
      ],
      "metadata": {
        "colab": {
          "base_uri": "https://localhost:8080/"
        },
        "id": "zUTdRzdLk6JW",
        "outputId": "d8d48f09-3689-4401-aa3b-c194c5cfe5c8"
      },
      "execution_count": 44,
      "outputs": [
        {
          "output_type": "stream",
          "name": "stdout",
          "text": [
            "superman\n",
            "spyderman\n",
            "hero\n",
            "zero\n",
            "thanos\n",
            "thar\n"
          ]
        }
      ]
    },
    {
      "cell_type": "code",
      "source": [
        "# 4\n",
        "for i, j in enumerate(t):\n",
        "  if i>3:\n",
        "    print(i,j)"
      ],
      "metadata": {
        "colab": {
          "base_uri": "https://localhost:8080/"
        },
        "id": "jlRAX5Tjk_xz",
        "outputId": "5028e874-ddef-42c5-efdd-412811f25598"
      },
      "execution_count": 45,
      "outputs": [
        {
          "output_type": "stream",
          "name": "stdout",
          "text": [
            "4 thanos\n",
            "5 thar\n"
          ]
        }
      ]
    },
    {
      "cell_type": "code",
      "source": [
        "# 5\n",
        "for i, j in enumerate(t):\n",
        "  if i>0:\n",
        "    print(j)"
      ],
      "metadata": {
        "colab": {
          "base_uri": "https://localhost:8080/"
        },
        "id": "bPjZjf9flPSj",
        "outputId": "0f04706a-fbcf-4f90-f111-c968c76dc702"
      },
      "execution_count": 46,
      "outputs": [
        {
          "output_type": "stream",
          "name": "stdout",
          "text": [
            "spyderman\n",
            "hero\n",
            "zero\n",
            "thanos\n",
            "thar\n"
          ]
        }
      ]
    },
    {
      "cell_type": "code",
      "source": [
        ""
      ],
      "metadata": {
        "id": "tX5ORICOlWfJ"
      },
      "execution_count": null,
      "outputs": []
    }
  ]
}